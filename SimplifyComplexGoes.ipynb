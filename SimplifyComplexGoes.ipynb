{
 "cells": [
  {
   "cell_type": "markdown",
   "metadata": {},
   "source": [
    "#### Turf Simplification  \n",
    "Simplify very large turfs \n",
    "* Calculate # of points per distance.\n",
    "* Sort data and visualize\n",
    "* Simplify polygons with > n # of points with t .   \n",
    "Currently n =  5000 and t = 50m"
   ]
  },
  {
   "cell_type": "code",
   "execution_count": 44,
   "metadata": {},
   "outputs": [
    {
     "data": {
      "text/html": [
       "<div>\n",
       "<style scoped>\n",
       "    .dataframe tbody tr th:only-of-type {\n",
       "        vertical-align: middle;\n",
       "    }\n",
       "\n",
       "    .dataframe tbody tr th {\n",
       "        vertical-align: top;\n",
       "    }\n",
       "\n",
       "    .dataframe thead th {\n",
       "        text-align: right;\n",
       "    }\n",
       "</style>\n",
       "<table border=\"1\" class=\"dataframe\">\n",
       "  <thead>\n",
       "    <tr style=\"text-align: right;\">\n",
       "      <th></th>\n",
       "      <th>OBJECTID</th>\n",
       "      <th>GISYN</th>\n",
       "      <th>MapNote</th>\n",
       "      <th>parentglobalid</th>\n",
       "      <th>Consent</th>\n",
       "      <th>ContctName</th>\n",
       "      <th>ContctPhone</th>\n",
       "      <th>ContctEmail</th>\n",
       "      <th>GroupYN</th>\n",
       "      <th>OrgName</th>\n",
       "      <th>...</th>\n",
       "      <th>Srv_Skng_other</th>\n",
       "      <th>Ntw_TpCollb1</th>\n",
       "      <th>Ntw_TpCollb2</th>\n",
       "      <th>Ntw_TpCollb3</th>\n",
       "      <th>Ntw_TpCollb4</th>\n",
       "      <th>Ntw_TpCollb5</th>\n",
       "      <th>n_point</th>\n",
       "      <th>Length</th>\n",
       "      <th>popm</th>\n",
       "      <th>geometry</th>\n",
       "    </tr>\n",
       "  </thead>\n",
       "  <tbody>\n",
       "    <tr>\n",
       "      <th>0</th>\n",
       "      <td>1</td>\n",
       "      <td>N</td>\n",
       "      <td>We operate specific sites within Aquidneck Isl...</td>\n",
       "      <td>{EC795986-4353-4354-8191-1F0E338B6440}</td>\n",
       "      <td>AN_Agree</td>\n",
       "      <td>Mary-Kate Kane</td>\n",
       "      <td>None</td>\n",
       "      <td>info@aquidneckcommunitytable.org</td>\n",
       "      <td>YN_Yes</td>\n",
       "      <td>Aquidneck Community Table</td>\n",
       "      <td>...</td>\n",
       "      <td>None</td>\n",
       "      <td>None</td>\n",
       "      <td>None</td>\n",
       "      <td>None</td>\n",
       "      <td>None</td>\n",
       "      <td>None</td>\n",
       "      <td>16928</td>\n",
       "      <td>135436.28</td>\n",
       "      <td>0</td>\n",
       "      <td>MULTIPOLYGON (((-7938480.129 5078784.162, -793...</td>\n",
       "    </tr>\n",
       "    <tr>\n",
       "      <th>1</th>\n",
       "      <td>2</td>\n",
       "      <td>Y</td>\n",
       "      <td>We work across the entirety of Aquidneck Island</td>\n",
       "      <td>{A0F7F78A-1D0A-475E-82FB-BB3E6BF860A8}</td>\n",
       "      <td>AN_Agree</td>\n",
       "      <td>Alex Chuman</td>\n",
       "      <td>401-849-2799x14</td>\n",
       "      <td>achuman@ailt.org</td>\n",
       "      <td>YN_Yes</td>\n",
       "      <td>Aquidneck Land Trust</td>\n",
       "      <td>...</td>\n",
       "      <td>None</td>\n",
       "      <td>town governments</td>\n",
       "      <td>non-profits</td>\n",
       "      <td>State</td>\n",
       "      <td>None</td>\n",
       "      <td>None</td>\n",
       "      <td>16928</td>\n",
       "      <td>135436.28</td>\n",
       "      <td>0</td>\n",
       "      <td>MULTIPOLYGON (((-7938480.129 5078784.162, -793...</td>\n",
       "    </tr>\n",
       "    <tr>\n",
       "      <th>2</th>\n",
       "      <td>3</td>\n",
       "      <td>N</td>\n",
       "      <td>None</td>\n",
       "      <td>{595C9A0C-FE18-482E-8357-6F68E4A56E13}</td>\n",
       "      <td>AN_Agree</td>\n",
       "      <td>Jo Ann Muramoto, Ph.D.</td>\n",
       "      <td>(508) 540-2667 (home)</td>\n",
       "      <td>jmuramoto@apcc.org</td>\n",
       "      <td>YN_Yes</td>\n",
       "      <td>Association to Preserve Cape Cod</td>\n",
       "      <td>...</td>\n",
       "      <td>None</td>\n",
       "      <td>15 towns on Cape Cod</td>\n",
       "      <td>State agencies (MA DER, MA DMF) and regional a...</td>\n",
       "      <td>Federal-state-local partnerships: MassBays Nat...</td>\n",
       "      <td>Federal: EPA, NRCS</td>\n",
       "      <td>NGOs (Center for Coastal Studies, Buzzards Bay...</td>\n",
       "      <td>9540</td>\n",
       "      <td>866948.01</td>\n",
       "      <td>0</td>\n",
       "      <td>MULTIPOLYGON (((-7851169.538 5096427.609, -785...</td>\n",
       "    </tr>\n",
       "    <tr>\n",
       "      <th>3</th>\n",
       "      <td>4</td>\n",
       "      <td>Y</td>\n",
       "      <td>None</td>\n",
       "      <td>{1D742075-4AAE-4574-82E5-032AC1A03E93}</td>\n",
       "      <td>AN_Agree</td>\n",
       "      <td>Scott Ruhren</td>\n",
       "      <td>401-949-5454 (x3004)</td>\n",
       "      <td>sruhren@asri.org</td>\n",
       "      <td>YN_Yes</td>\n",
       "      <td>Audubon Society of Rhode Island - Conservation</td>\n",
       "      <td>...</td>\n",
       "      <td>None</td>\n",
       "      <td>USDA-NRCS</td>\n",
       "      <td>None</td>\n",
       "      <td>None</td>\n",
       "      <td>None</td>\n",
       "      <td>None</td>\n",
       "      <td>9139</td>\n",
       "      <td>288215.65</td>\n",
       "      <td>0</td>\n",
       "      <td>MULTIPOLYGON (((-7971043.918 5035332.343, -797...</td>\n",
       "    </tr>\n",
       "    <tr>\n",
       "      <th>4</th>\n",
       "      <td>5</td>\n",
       "      <td>N</td>\n",
       "      <td>None</td>\n",
       "      <td>{062641D9-09E9-4517-87A3-B9B00768F3B2}</td>\n",
       "      <td>AN_Agree</td>\n",
       "      <td>Lauren Parmelee</td>\n",
       "      <td>401 949-5454</td>\n",
       "      <td>lparmelee@asri.org</td>\n",
       "      <td>YN_Yes</td>\n",
       "      <td>Audubon Society of Rhode Island - Education</td>\n",
       "      <td>...</td>\n",
       "      <td>None</td>\n",
       "      <td>Providence Parks Urban Wildlife Refuge Partner...</td>\n",
       "      <td>Pawtucket School Department</td>\n",
       "      <td>Schools</td>\n",
       "      <td>Libraries</td>\n",
       "      <td>Community organizations</td>\n",
       "      <td>480369</td>\n",
       "      <td>4457906.22</td>\n",
       "      <td>0</td>\n",
       "      <td>MULTIPOLYGON (((-7967781.607 5042168.644, -796...</td>\n",
       "    </tr>\n",
       "  </tbody>\n",
       "</table>\n",
       "<p>5 rows × 77 columns</p>\n",
       "</div>"
      ],
      "text/plain": [
       "   OBJECTID GISYN                                            MapNote  \\\n",
       "0         1     N  We operate specific sites within Aquidneck Isl...   \n",
       "1         2     Y   We work across the entirety of Aquidneck Island    \n",
       "2         3     N                                               None   \n",
       "3         4     Y                                               None   \n",
       "4         5     N                                               None   \n",
       "\n",
       "                           parentglobalid   Consent              ContctName  \\\n",
       "0  {EC795986-4353-4354-8191-1F0E338B6440}  AN_Agree          Mary-Kate Kane   \n",
       "1  {A0F7F78A-1D0A-475E-82FB-BB3E6BF860A8}  AN_Agree             Alex Chuman   \n",
       "2  {595C9A0C-FE18-482E-8357-6F68E4A56E13}  AN_Agree  Jo Ann Muramoto, Ph.D.   \n",
       "3  {1D742075-4AAE-4574-82E5-032AC1A03E93}  AN_Agree            Scott Ruhren   \n",
       "4  {062641D9-09E9-4517-87A3-B9B00768F3B2}  AN_Agree         Lauren Parmelee   \n",
       "\n",
       "             ContctPhone                       ContctEmail GroupYN  \\\n",
       "0                   None  info@aquidneckcommunitytable.org  YN_Yes   \n",
       "1        401-849-2799x14                  achuman@ailt.org  YN_Yes   \n",
       "2  (508) 540-2667 (home)                jmuramoto@apcc.org  YN_Yes   \n",
       "3   401-949-5454 (x3004)                  sruhren@asri.org  YN_Yes   \n",
       "4           401 949-5454                lparmelee@asri.org  YN_Yes   \n",
       "\n",
       "                                          OrgName  ... Srv_Skng_other  \\\n",
       "0                       Aquidneck Community Table  ...           None   \n",
       "1                            Aquidneck Land Trust  ...           None   \n",
       "2                Association to Preserve Cape Cod  ...           None   \n",
       "3  Audubon Society of Rhode Island - Conservation  ...           None   \n",
       "4    Audubon Society of Rhode Island - Education   ...           None   \n",
       "\n",
       "                                        Ntw_TpCollb1  \\\n",
       "0                                               None   \n",
       "1                                   town governments   \n",
       "2                               15 towns on Cape Cod   \n",
       "3                                          USDA-NRCS   \n",
       "4  Providence Parks Urban Wildlife Refuge Partner...   \n",
       "\n",
       "                                        Ntw_TpCollb2  \\\n",
       "0                                               None   \n",
       "1                                        non-profits   \n",
       "2  State agencies (MA DER, MA DMF) and regional a...   \n",
       "3                                               None   \n",
       "4                        Pawtucket School Department   \n",
       "\n",
       "                                        Ntw_TpCollb3        Ntw_TpCollb4  \\\n",
       "0                                               None                None   \n",
       "1                                              State                None   \n",
       "2  Federal-state-local partnerships: MassBays Nat...  Federal: EPA, NRCS   \n",
       "3                                               None                None   \n",
       "4                                            Schools           Libraries   \n",
       "\n",
       "                                        Ntw_TpCollb5 n_point      Length popm  \\\n",
       "0                                               None   16928   135436.28    0   \n",
       "1                                               None   16928   135436.28    0   \n",
       "2  NGOs (Center for Coastal Studies, Buzzards Bay...    9540   866948.01    0   \n",
       "3                                               None    9139   288215.65    0   \n",
       "4                            Community organizations  480369  4457906.22    0   \n",
       "\n",
       "                                            geometry  \n",
       "0  MULTIPOLYGON (((-7938480.129 5078784.162, -793...  \n",
       "1  MULTIPOLYGON (((-7938480.129 5078784.162, -793...  \n",
       "2  MULTIPOLYGON (((-7851169.538 5096427.609, -785...  \n",
       "3  MULTIPOLYGON (((-7971043.918 5035332.343, -797...  \n",
       "4  MULTIPOLYGON (((-7967781.607 5042168.644, -796...  \n",
       "\n",
       "[5 rows x 77 columns]"
      ]
     },
     "execution_count": 44,
     "metadata": {},
     "output_type": "execute_result"
    }
   ],
   "source": [
    "import geopandas as gpd\n",
    "import pandas as pd\n",
    "\n",
    "path = r\"C:\\Users\\csucuogl\\Desktop\\Lynn.geojson\"\n",
    "df = gpd.read_file( path )\n",
    "\n",
    "df.head()"
   ]
  },
  {
   "cell_type": "markdown",
   "metadata": {},
   "source": [
    "Create points per meter measure. This is not very useful."
   ]
  },
  {
   "cell_type": "code",
   "execution_count": 47,
   "metadata": {},
   "outputs": [
    {
     "data": {
      "text/html": [
       "<div>\n",
       "<style scoped>\n",
       "    .dataframe tbody tr th:only-of-type {\n",
       "        vertical-align: middle;\n",
       "    }\n",
       "\n",
       "    .dataframe tbody tr th {\n",
       "        vertical-align: top;\n",
       "    }\n",
       "\n",
       "    .dataframe thead th {\n",
       "        text-align: right;\n",
       "    }\n",
       "</style>\n",
       "<table border=\"1\" class=\"dataframe\">\n",
       "  <thead>\n",
       "    <tr style=\"text-align: right;\">\n",
       "      <th></th>\n",
       "      <th>OBJECTID</th>\n",
       "      <th>GISYN</th>\n",
       "      <th>MapNote</th>\n",
       "      <th>parentglobalid</th>\n",
       "      <th>Consent</th>\n",
       "      <th>ContctName</th>\n",
       "      <th>ContctPhone</th>\n",
       "      <th>ContctEmail</th>\n",
       "      <th>GroupYN</th>\n",
       "      <th>OrgName</th>\n",
       "      <th>...</th>\n",
       "      <th>Ntw_TpCollb1</th>\n",
       "      <th>Ntw_TpCollb2</th>\n",
       "      <th>Ntw_TpCollb3</th>\n",
       "      <th>Ntw_TpCollb4</th>\n",
       "      <th>Ntw_TpCollb5</th>\n",
       "      <th>n_point</th>\n",
       "      <th>Length</th>\n",
       "      <th>popm</th>\n",
       "      <th>geometry</th>\n",
       "      <th>pop2</th>\n",
       "    </tr>\n",
       "  </thead>\n",
       "  <tbody>\n",
       "    <tr>\n",
       "      <th>114</th>\n",
       "      <td>115</td>\n",
       "      <td>N</td>\n",
       "      <td>Included is a small greenhouse.</td>\n",
       "      <td>{4FDCDA94-9816-488A-8B01-29B93A129352}</td>\n",
       "      <td>AN_Agree</td>\n",
       "      <td>Hannah Moore</td>\n",
       "      <td>508 748 0566</td>\n",
       "      <td>hannahmoore@oldrochester.org</td>\n",
       "      <td>YN_Yes</td>\n",
       "      <td>Sippican School Garden</td>\n",
       "      <td>...</td>\n",
       "      <td>Town of Marion</td>\n",
       "      <td>Old Rochester Regional School District</td>\n",
       "      <td>Tabor Academy</td>\n",
       "      <td>None</td>\n",
       "      <td>None</td>\n",
       "      <td>31</td>\n",
       "      <td>49.97</td>\n",
       "      <td>1</td>\n",
       "      <td>MULTIPOLYGON (((-7877883.565 5116621.625, -787...</td>\n",
       "      <td>0.6204</td>\n",
       "    </tr>\n",
       "    <tr>\n",
       "      <th>84</th>\n",
       "      <td>85</td>\n",
       "      <td>N</td>\n",
       "      <td>Town of Orleans, Massachusetts</td>\n",
       "      <td>{889BCFD6-2F14-4D5D-8CFF-EFB6D0986506}</td>\n",
       "      <td>AN_Agree</td>\n",
       "      <td>Michael P. Marnik</td>\n",
       "      <td>617-285-7008</td>\n",
       "      <td>michaelmarnik@marniklaw.com</td>\n",
       "      <td>YN_Yes</td>\n",
       "      <td>Orleans Pond Coalition</td>\n",
       "      <td>...</td>\n",
       "      <td>None</td>\n",
       "      <td>None</td>\n",
       "      <td>None</td>\n",
       "      <td>None</td>\n",
       "      <td>None</td>\n",
       "      <td>21841</td>\n",
       "      <td>107284.14</td>\n",
       "      <td>0</td>\n",
       "      <td>MULTIPOLYGON (((-7787097.559 5120574.684, -778...</td>\n",
       "      <td>0.2036</td>\n",
       "    </tr>\n",
       "    <tr>\n",
       "      <th>82</th>\n",
       "      <td>83</td>\n",
       "      <td>N</td>\n",
       "      <td>Your boundary does  does not include all of Or...</td>\n",
       "      <td>{BE73D5AB-57D6-42D5-8DF1-042815C3917F}</td>\n",
       "      <td>AN_Agree</td>\n",
       "      <td>Alexander Bates</td>\n",
       "      <td>508-255-0183</td>\n",
       "      <td>alex@orleansconservationtrust.org</td>\n",
       "      <td>YN_Yes</td>\n",
       "      <td>Orleans Conservation Trust</td>\n",
       "      <td>...</td>\n",
       "      <td>None</td>\n",
       "      <td>None</td>\n",
       "      <td>None</td>\n",
       "      <td>None</td>\n",
       "      <td>None</td>\n",
       "      <td>21841</td>\n",
       "      <td>107284.14</td>\n",
       "      <td>0</td>\n",
       "      <td>MULTIPOLYGON (((-7787097.559 5120574.684, -778...</td>\n",
       "      <td>0.2036</td>\n",
       "    </tr>\n",
       "    <tr>\n",
       "      <th>81</th>\n",
       "      <td>82</td>\n",
       "      <td>Y</td>\n",
       "      <td>Can not accomplish this task.  Boundary should...</td>\n",
       "      <td>{D0C9E1EA-8142-4F02-89AA-BDC086FCCC0C}</td>\n",
       "      <td>AN_Agree</td>\n",
       "      <td>Judith Bruce</td>\n",
       "      <td>508-255-3134</td>\n",
       "      <td>turtledock@comcast.net</td>\n",
       "      <td>YN_Yes</td>\n",
       "      <td>Orleans Conservation Commission</td>\n",
       "      <td>...</td>\n",
       "      <td>Wetlands expertise</td>\n",
       "      <td>Pleasant Bay Resource Management Guide / Recom...</td>\n",
       "      <td>Invasives Control, Open Space Collaboration</td>\n",
       "      <td>Expertise on coastal processes, sea level rise</td>\n",
       "      <td>None</td>\n",
       "      <td>21841</td>\n",
       "      <td>107284.14</td>\n",
       "      <td>0</td>\n",
       "      <td>MULTIPOLYGON (((-7787097.559 5120574.684, -778...</td>\n",
       "      <td>0.2036</td>\n",
       "    </tr>\n",
       "    <tr>\n",
       "      <th>80</th>\n",
       "      <td>81</td>\n",
       "      <td>N</td>\n",
       "      <td>Our area of coverage is defined by the boundar...</td>\n",
       "      <td>{27025F32-3EE8-478B-8FB1-2FAC99FF60D1}</td>\n",
       "      <td>AN_Agree</td>\n",
       "      <td>Paul Davis</td>\n",
       "      <td>508.868.8771</td>\n",
       "      <td>pwdavis@wpi.edu</td>\n",
       "      <td>YN_Yes</td>\n",
       "      <td>Orleans Can</td>\n",
       "      <td>...</td>\n",
       "      <td>Individual members of the Town of Orleans Sele...</td>\n",
       "      <td>Board of Directors of the Orleans Pond Coalition</td>\n",
       "      <td>Town of Orleans Water and Sewer Commissioners,</td>\n",
       "      <td>None</td>\n",
       "      <td>None</td>\n",
       "      <td>21841</td>\n",
       "      <td>107284.14</td>\n",
       "      <td>0</td>\n",
       "      <td>MULTIPOLYGON (((-7787097.559 5120574.684, -778...</td>\n",
       "      <td>0.2036</td>\n",
       "    </tr>\n",
       "  </tbody>\n",
       "</table>\n",
       "<p>5 rows × 78 columns</p>\n",
       "</div>"
      ],
      "text/plain": [
       "     OBJECTID GISYN                                            MapNote  \\\n",
       "114       115     N                    Included is a small greenhouse.   \n",
       "84         85     N                     Town of Orleans, Massachusetts   \n",
       "82         83     N  Your boundary does  does not include all of Or...   \n",
       "81         82     Y  Can not accomplish this task.  Boundary should...   \n",
       "80         81     N  Our area of coverage is defined by the boundar...   \n",
       "\n",
       "                             parentglobalid   Consent         ContctName  \\\n",
       "114  {4FDCDA94-9816-488A-8B01-29B93A129352}  AN_Agree       Hannah Moore   \n",
       "84   {889BCFD6-2F14-4D5D-8CFF-EFB6D0986506}  AN_Agree  Michael P. Marnik   \n",
       "82   {BE73D5AB-57D6-42D5-8DF1-042815C3917F}  AN_Agree    Alexander Bates   \n",
       "81   {D0C9E1EA-8142-4F02-89AA-BDC086FCCC0C}  AN_Agree       Judith Bruce   \n",
       "80   {27025F32-3EE8-478B-8FB1-2FAC99FF60D1}  AN_Agree         Paul Davis   \n",
       "\n",
       "      ContctPhone                        ContctEmail GroupYN  \\\n",
       "114  508 748 0566       hannahmoore@oldrochester.org  YN_Yes   \n",
       "84   617-285-7008        michaelmarnik@marniklaw.com  YN_Yes   \n",
       "82   508-255-0183  alex@orleansconservationtrust.org  YN_Yes   \n",
       "81   508-255-3134             turtledock@comcast.net  YN_Yes   \n",
       "80   508.868.8771                    pwdavis@wpi.edu  YN_Yes   \n",
       "\n",
       "                             OrgName  ...  \\\n",
       "114          Sippican School Garden   ...   \n",
       "84            Orleans Pond Coalition  ...   \n",
       "82        Orleans Conservation Trust  ...   \n",
       "81   Orleans Conservation Commission  ...   \n",
       "80                       Orleans Can  ...   \n",
       "\n",
       "                                          Ntw_TpCollb1  \\\n",
       "114                                     Town of Marion   \n",
       "84                                                None   \n",
       "82                                                None   \n",
       "81                                  Wetlands expertise   \n",
       "80   Individual members of the Town of Orleans Sele...   \n",
       "\n",
       "                                          Ntw_TpCollb2  \\\n",
       "114             Old Rochester Regional School District   \n",
       "84                                                None   \n",
       "82                                                None   \n",
       "81   Pleasant Bay Resource Management Guide / Recom...   \n",
       "80    Board of Directors of the Orleans Pond Coalition   \n",
       "\n",
       "                                       Ntw_TpCollb3  \\\n",
       "114                                   Tabor Academy   \n",
       "84                                             None   \n",
       "82                                             None   \n",
       "81      Invasives Control, Open Space Collaboration   \n",
       "80   Town of Orleans Water and Sewer Commissioners,   \n",
       "\n",
       "                                       Ntw_TpCollb4 Ntw_TpCollb5 n_point  \\\n",
       "114                                            None         None      31   \n",
       "84                                             None         None   21841   \n",
       "82                                             None         None   21841   \n",
       "81   Expertise on coastal processes, sea level rise         None   21841   \n",
       "80                                             None         None   21841   \n",
       "\n",
       "        Length popm                                           geometry    pop2  \n",
       "114      49.97    1  MULTIPOLYGON (((-7877883.565 5116621.625, -787...  0.6204  \n",
       "84   107284.14    0  MULTIPOLYGON (((-7787097.559 5120574.684, -778...  0.2036  \n",
       "82   107284.14    0  MULTIPOLYGON (((-7787097.559 5120574.684, -778...  0.2036  \n",
       "81   107284.14    0  MULTIPOLYGON (((-7787097.559 5120574.684, -778...  0.2036  \n",
       "80   107284.14    0  MULTIPOLYGON (((-7787097.559 5120574.684, -778...  0.2036  \n",
       "\n",
       "[5 rows x 78 columns]"
      ]
     },
     "execution_count": 47,
     "metadata": {},
     "output_type": "execute_result"
    }
   ],
   "source": [
    "df['pop2'] = (df['n_point'] / df['Length']).round(4)\n",
    "df = df.sort_values('pop2', ascending=False)\n",
    "df.head()"
   ]
  },
  {
   "cell_type": "code",
   "execution_count": 51,
   "metadata": {},
   "outputs": [
    {
     "data": {
      "image/png": "[encoded data removed]",
      "text/plain": [
       "<Figure size 640x480 with 1 Axes>"
      ]
     },
     "metadata": {},
     "output_type": "display_data"
    }
   ],
   "source": [
    "import matplotlib.pyplot as plt\n",
    "\n",
    "temp = df[ df['OrgName'].str.contains('Sippican') ]\n",
    "temp.plot()\n",
    "plt.show()"
   ]
  },
  {
   "cell_type": "markdown",
   "metadata": {},
   "source": [
    "**Plot points vs Length**  \n",
    "Visualize n_point vs shape length. Usually longer shapes have more points but some have too much."
   ]
  },
  {
   "cell_type": "code",
   "execution_count": 53,
   "metadata": {},
   "outputs": [
    {
     "data": {
      "application/vnd.plotly.v1+json": {
       "config": {
        "plotlyServerURL": "https://plot.ly"
       },
       "data": [
        {
         "customdata": [
          [
           "Sippican School Garden ",
           49.97,
           31
          ],
          [
           "Orleans Pond Coalition",
           107284.14,
           21841
          ],
          [
           "Orleans Conservation Trust",
           107284.14,
           21841
          ],
          [
           "Orleans Conservation Commission",
           107284.14,
           21841
          ],
          [
           "Orleans Can",
           107284.14,
           21841
          ],
          [
           "Blackstone Parks Conservancy",
           8741.52,
           1592
          ],
          [
           "The Watch Hill Conservancy",
           22259.23,
           3878
          ],
          [
           "The 300 Committee Land Trust ",
           175565.05,
           28904
          ],
          [
           "Falmouth Water Stewards",
           175565.05,
           28904
          ],
          [
           "URI Watershed Watch",
           91578.2,
           13170
          ],
          [
           "Wareham Land Trust",
           153731.94,
           22019
          ],
          [
           "Barrington Land Conservation Trust",
           56478.27,
           7786
          ],
          [
           "Cape Cod Chamber of Commerce",
           1290361.71,
           174283
          ],
          [
           "Town of Warren Tree Commission",
           39310.24,
           4982
          ],
          [
           "Warren Land Conservation Trust",
           39310.24,
           4982
          ],
          [
           "Aquidneck Land Trust",
           135436.28,
           16928
          ],
          [
           "Aquidneck Community Table",
           135436.28,
           16928
          ],
          [
           "Eastern Rhode Island Conservation District",
           492101.73,
           59832
          ],
          [
           "Manissean Tribal Council",
           46376.6,
           5371
          ],
          [
           "Block Island Conservancy, Inc.",
           46376.6,
           5371
          ],
          [
           "Block Island Land Trust",
           46376.6,
           5371
          ],
          [
           "Environment Council of Rhode isalnd",
           1229010.79,
           139123
          ],
          [
           "Rhode Island Tree Council",
           1229010.79,
           139123
          ],
          [
           "The Rhode Island Chapter of Trout Unlimited",
           1229010.79,
           139123
          ],
          [
           "Save The Lakes ",
           1229010.79,
           139123
          ],
          [
           "RI Tree Farm Committee",
           1229010.79,
           139123
          ],
          [
           "RI Forest Conservator's Organization, Inc.",
           1229010.79,
           139123
          ],
          [
           "Rhode Island Conservation Stewardship Collaborative",
           1229010.79,
           139123
          ],
          [
           "Rhode Island Department of Health ",
           1229010.79,
           139123
          ],
          [
           "Rhode Island Environmental Education Association",
           1229010.79,
           139123
          ],
          [
           "Rhode Island Green Infrastructure Coalition",
           1229010.79,
           139123
          ],
          [
           "Rhode Island Infrastructure Bank",
           1229010.79,
           139123
          ],
          [
           "Rhode Island Invasive Species Council",
           1229010.79,
           139123
          ],
          [
           "Rhode Island Woodland Partnership",
           1229010.79,
           139123
          ],
          [
           "Rhode Island Natural History Survey",
           1229010.79,
           139123
          ],
          [
           "Rhode Island Water Resources Board",
           1229010.79,
           139123
          ],
          [
           "Farm Fresh Rhode Island",
           1229010.79,
           139123
          ],
          [
           "Audubon Society of Rhode Island - Policy",
           1229010.79,
           139123
          ],
          [
           "DownCity Design",
           1229010.79,
           139123
          ],
          [
           "Cape Cod Climate Change Collaborative",
           1830440.92,
           204832
          ],
          [
           "Hope's Harvest RI",
           1258856.16,
           138686
          ],
          [
           "South Kingstown Land Trust",
           128521.56,
           14140
          ],
          [
           "Fairhaven-Acushnet Land Preservation Trust",
           96074.2,
           10387
          ],
          [
           "Native Plant Trust",
           4457906.22,
           480369
          ],
          [
           "Audubon Society of Rhode Island - Education ",
           4457906.22,
           480369
          ],
          [
           "Mattapoisett Land Trust, Inc.",
           62048.11,
           6627
          ],
          [
           "Little Compton Historical Society",
           50913.44,
           5377
          ],
          [
           "Young Farmer Network of Southeastern New England",
           1336098.17,
           140668
          ],
          [
           "Council of Seven/Royal House/Pokanoket Tribe/Pokanoket Nation",
           266678.93,
           27832
          ],
          [
           "Common Fence Point Preparedness Committee",
           9332.26,
           972
          ],
          [
           "Salt Pond Areas Bird Sanctuaries, Inc.",
           35289.77,
           3497
          ],
          [
           "Southeastern Regional Planning & Economic Development District",
           919892.99,
           88299
          ],
          [
           "Tiverton Land Trust",
           73963.11,
           7057
          ],
          [
           "Narragansett Land Conservancy Trust",
           17708.86,
           1662
          ],
          [
           "Friends of Pleasant Bay ",
           90425.22,
           8451
          ],
          [
           "The Trustees of Reservations",
           721775.95,
           66048
          ],
          [
           "Martin Luther King (MLK) School Community Garden",
           120.67,
           11
          ],
          [
           "Roger Williams Park Conservancy",
           7000.24,
           634
          ],
          [
           "The Community Compost Depot, Inc.",
           133714.57,
           12079
          ],
          [
           "Warwick Land Trust",
           111009.19,
           9617
          ],
          [
           "Sakonnet Preservation Association",
           38228.54,
           3305
          ],
          [
           "Waquoit Bay National Estaurine Research Reserve",
           61345.09,
           5038
          ],
          [
           "Massachusetts Maritime Academy",
           482259.6,
           39580
          ],
          [
           "Mass Audubon Climate Program",
           30218.26,
           2370
          ],
          [
           "MidState Trail Committee of the Worcester chapter of the AMC",
           310611.23,
           24342
          ],
          [
           "Barnstable Clean Water Coalition",
           233287.6,
           18135
          ],
          [
           "Sessions Street Community Garden",
           116.69,
           9
          ],
          [
           "The Massachusetts/Rhode Island Chapter of The American Chestnut Foundation",
           4174760.16,
           317539
          ],
          [
           "Youth In Action",
           42125.02,
           3188
          ],
          [
           "YouthBuild Providence",
           42125.02,
           3188
          ],
          [
           "Racial Environmental Justice Committee",
           42125.02,
           3188
          ],
          [
           "Coalition for Social Justice Education Fund",
           724966.12,
           52577
          ],
          [
           "Dennis Conservation Land Trust",
           92632.26,
           6080
          ],
          [
           "The Brewster Ponds Coalition",
           44078.16,
           2781
          ],
          [
           "Garden Time, Inc.",
           8967.67,
           555
          ],
          [
           "BiodiversityWorks",
           264061.95,
           15923
          ],
          [
           "Polly Hill Arboretum",
           264061.95,
           15923
          ],
          [
           "Blackstone River Valley National Historical Park",
           17031.78,
           1026
          ],
          [
           "Northern RI Conservation District",
           200362.13,
           11700
          ],
          [
           "Municipal Vulnerability Preparedness Program",
           3146750.02,
           179664
          ],
          [
           "Massachusetts Rivers Alliance",
           3146750.02,
           179664
          ],
          [
           "Mass Audubon",
           3146750.02,
           179664
          ],
          [
           "Mass Audubon, Shaping Climate Resilient Communities",
           3146750.02,
           179664
          ],
          [
           "Massachusetts Invasive plant Advisory Group",
           3146750.02,
           179664
          ],
          [
           "Massachusetts Land Trust Coalition",
           3146750.02,
           179664
          ],
          [
           "Mass Audubon - Islands",
           439268.92,
           24393
          ],
          [
           "Tomaquag Museum",
           4641002.87,
           257691
          ],
          [
           "Park Spirit of Worcester, Inc.",
           44892.41,
           2437
          ],
          [
           "Harwich Conservation Trust",
           54637.56,
           2836
          ],
          [
           "Martha's Vineyard Shellfish Group, Inc.",
           116632.58,
           5879
          ],
          [
           "Southeastern Massachusetts Pine Barrens Alliance",
           1238256.6,
           61421
          ],
          [
           "Simmons Stewardship and Conservation Ecology",
           1238256.6,
           61421
          ],
          [
           "Nantucket Conservation Foundation",
           246130.39,
           12151
          ],
          [
           "Norman Bird Sanctuary",
           7215.21,
           345
          ],
          [
           "Providence Stormwater Innovation Center",
           3012824.47,
           143614
          ],
          [
           "Ducks Unlimited, Inc",
           3012824.47,
           143614
          ],
          [
           "Nantucket Land Council",
           474341.96,
           21962
          ],
          [
           "Rhode Island Rivers Council",
           802474.29,
           37130
          ],
          [
           "NEIWPCC",
           17634257.89,
           811393
          ],
          [
           "Haymarket People's Fund",
           12664760.35,
           561653
          ],
          [
           "Cyanobacteria Monitoring Collaborative",
           12664760.35,
           561653
          ],
          [
           "Conservation Law Foundation",
           12664760.35,
           561653
          ],
          [
           "Blackstone Valley Tourism Council",
           199266.08,
           8351
          ],
          [
           "Eating with the Ecosystem",
           12033026.07,
           497044
          ],
          [
           "Roots 2Empower",
           178.02,
           7
          ],
          [
           "Historic New England",
           6672.62,
           261
          ],
          [
           "East Greenwich Land Trust",
           30551.31,
           1085
          ],
          [
           "Wood Pawcatuck Wild and Scenic Rivers Council",
           201860.82,
           7060
          ],
          [
           "Wood-Pawcatuck Watershed Association",
           201860.82,
           7060
          ],
          [
           "Sandplain Grassland Network",
           11311244.18,
           393133
          ],
          [
           "West Elmwood Housing Development Corporation",
           18001.31,
           578
          ],
          [
           "Audubon Society of Rhode Island - Conservation",
           288215.65,
           9139
          ],
          [
           "Woonasquatucket River Watershed Council",
           81930.35,
           2459
          ],
          [
           "Pawtuxet River Authority",
           154213.85,
           4367
          ],
          [
           "West Bay Land trust",
           51778.26,
           1456
          ],
          [
           "Narrow River Land Trust, Inc.",
           58320.74,
           1456
          ],
          [
           "Narrow River Preservation Association",
           58320.74,
           1456
          ],
          [
           "College of the Holy Cross",
           4256.45,
           104
          ],
          [
           "Friends of Mashpee National Wildlife Refuge",
           123129.13,
           2823
          ],
          [
           "Southeastern Regional Stormwater Coalition",
           438305.34,
           9774
          ],
          [
           "Manchaug Pond Foundation",
           25732.2,
           537
          ],
          [
           "New Bedford Whaling National Historical Park",
           1362.71,
           28
          ],
          [
           "Tatnuck Brook Watershed Association",
           40956.69,
           825
          ],
          [
           "Narragansett Bay Estuary Program",
           599541.51,
           12055
          ],
          [
           "Buckeye Brook Coalition",
           19676.88,
           382
          ],
          [
           "Nipmuc Nation & Nipmuc Indian Development Corporation",
           731.17,
           14
          ],
          [
           "Taunton River Watershed Alliance",
           288234.76,
           4995
          ],
          [
           "Resilient Taunton Watershed Network",
           288234.76,
           4995
          ],
          [
           "Buzzards Bay National Estuary Program",
           228686.92,
           3180
          ],
          [
           "Linda Loring Nature Foundation",
           7162.26,
           98
          ],
          [
           "Wildlands Trust",
           1058561.54,
           12294
          ],
          [
           "Association to Preserve Cape Cod",
           866948.01,
           9540
          ],
          [
           "Buzzards Bay Coalition",
           268219.51,
           2721
          ],
          [
           "The Southern New England Heritage Forest Regional Conservation Partnership",
           492600.85,
           4661
          ],
          [
           "Friends of the Moshassuck",
           40813.98,
           378
          ],
          [
           "Our Sisters' School",
           1436.65,
           13
          ],
          [
           "Westborough Community Land Trust",
           34962.32,
           221
          ],
          [
           "Blackstone River Coalition",
           287641.01,
           1614
          ],
          [
           "Orleans Marine and Fresh Water Quality Committee",
           69232.54,
           382
          ],
          [
           "Blackstone River Watershed Association",
           244906.15,
           1093
          ],
          [
           "Blackstone River Watershed Council/Friends Of The Blackstone ",
           138015.78,
           611
          ],
          [
           "Friends of Chatham Waterways",
           71869.8,
           218
          ],
          [
           "Cape Cod Commission",
           290348.7,
           495
          ],
          [
           "Burrillville Land Trust",
           50897.21,
           66
          ],
          [
           "Greater Worcester Land Trust, Inc.",
           174397.98,
           106
          ],
          [
           "White Oak Land Conservation Society",
           43895.7,
           24
          ],
          [
           "Indian Lake Watershed Association Inc",
           42620.75,
           17
          ],
          [
           "Rhode Island Blueways Alliance",
           311708.7,
           132
          ],
          [
           "The Attleboro Land Trust",
           39371.18,
           10
          ],
          [
           "Common Ground Land Trust",
           51996.91,
           15
          ]
         ],
         "hovertemplate": "Length=%{customdata[1]}<br>n_point=%{customdata[2]}<br>OrgName=%{customdata[0]}<extra></extra>",
         "legendgroup": "",
         "marker": {
          "color": "#636efa",
          "symbol": "circle"
         },
         "mode": "markers",
         "name": "",
         "orientation": "v",
         "showlegend": false,
         "type": "scatter",
         "x": [
          49.97,
          107284.14,
          107284.14,
          107284.14,
          107284.14,
          8741.52,
          22259.23,
          175565.05,
          175565.05,
          91578.2,
          153731.94,
          56478.27,
          1290361.71,
          39310.24,
          39310.24,
          135436.28,
          135436.28,
          492101.73,
          46376.6,
          46376.6,
          46376.6,
          1229010.79,
          1229010.79,
          1229010.79,
          1229010.79,
          1229010.79,
          1229010.79,
          1229010.79,
          1229010.79,
          1229010.79,
          1229010.79,
          1229010.79,
          1229010.79,
          1229010.79,
          1229010.79,
          1229010.79,
          1229010.79,
          1229010.79,
          1229010.79,
          1830440.92,
          1258856.16,
          128521.56,
          96074.2,
          4457906.22,
          4457906.22,
          62048.11,
          50913.44,
          1336098.17,
          266678.93,
          9332.26,
          35289.77,
          919892.99,
          73963.11,
          17708.86,
          90425.22,
          721775.95,
          120.67,
          7000.24,
          133714.57,
          111009.19,
          38228.54,
          61345.09,
          482259.6,
          30218.26,
          310611.23,
          233287.6,
          116.69,
          4174760.16,
          42125.02,
          42125.02,
          42125.02,
          724966.12,
          92632.26,
          44078.16,
          8967.67,
          264061.95,
          264061.95,
          17031.78,
          200362.13,
          3146750.02,
          3146750.02,
          3146750.02,
          3146750.02,
          3146750.02,
          3146750.02,
          439268.92,
          4641002.87,
          44892.41,
          54637.56,
          116632.58,
          1238256.6,
          1238256.6,
          246130.39,
          7215.21,
          3012824.47,
          3012824.47,
          474341.96,
          802474.29,
          17634257.89,
          12664760.35,
          12664760.35,
          12664760.35,
          199266.08,
          12033026.07,
          178.02,
          6672.62,
          30551.31,
          201860.82,
          201860.82,
          11311244.18,
          18001.31,
          288215.65,
          81930.35,
          154213.85,
          51778.26,
          58320.74,
          58320.74,
          4256.45,
          123129.13,
          438305.34,
          25732.2,
          1362.71,
          40956.69,
          599541.51,
          19676.88,
          731.17,
          288234.76,
          288234.76,
          228686.92,
          7162.26,
          1058561.54,
          866948.01,
          268219.51,
          492600.85,
          40813.98,
          1436.65,
          34962.32,
          287641.01,
          69232.54,
          244906.15,
          138015.78,
          71869.8,
          290348.7,
          50897.21,
          174397.98,
          43895.7,
          42620.75,
          311708.7,
          39371.18,
          51996.91
         ],
         "xaxis": "x",
         "y": [
          31,
          21841,
          21841,
          21841,
          21841,
          1592,
          3878,
          28904,
          28904,
          13170,
          22019,
          7786,
          174283,
          4982,
          4982,
          16928,
          16928,
          59832,
          5371,
          5371,
          5371,
          139123,
          139123,
          139123,
          139123,
          139123,
          139123,
          139123,
          139123,
          139123,
          139123,
          139123,
          139123,
          139123,
          139123,
          139123,
          139123,
          139123,
          139123,
          204832,
          138686,
          14140,
          10387,
          480369,
          480369,
          6627,
          5377,
          140668,
          27832,
          972,
          3497,
          88299,
          7057,
          1662,
          8451,
          66048,
          11,
          634,
          12079,
          9617,
          3305,
          5038,
          39580,
          2370,
          24342,
          18135,
          9,
          317539,
          3188,
          3188,
          3188,
          52577,
          6080,
          2781,
          555,
          15923,
          15923,
          1026,
          11700,
          179664,
          179664,
          179664,
          179664,
          179664,
          179664,
          24393,
          257691,
          2437,
          2836,
          5879,
          61421,
          61421,
          12151,
          345,
          143614,
          143614,
          21962,
          37130,
          811393,
          561653,
          561653,
          561653,
          8351,
          497044,
          7,
          261,
          1085,
          7060,
          7060,
          393133,
          578,
          9139,
          2459,
          4367,
          1456,
          1456,
          1456,
          104,
          2823,
          9774,
          537,
          28,
          825,
          12055,
          382,
          14,
          4995,
          4995,
          3180,
          98,
          12294,
          9540,
          2721,
          4661,
          378,
          13,
          221,
          1614,
          382,
          1093,
          611,
          218,
          495,
          66,
          106,
          24,
          17,
          132,
          10,
          15
         ],
         "yaxis": "y"
        }
       ],
       "layout": {
        "legend": {
         "tracegroupgap": 0
        },
        "margin": {
         "t": 60
        },
        "template": {
         "data": {
          "bar": [
           {
            "error_x": {
             "color": "#2a3f5f"
            },
            "error_y": {
             "color": "#2a3f5f"
            },
            "marker": {
             "line": {
              "color": "#E5ECF6",
              "width": 0.5
             }
            },
            "type": "bar"
           }
          ],
          "barpolar": [
           {
            "marker": {
             "line": {
              "color": "#E5ECF6",
              "width": 0.5
             }
            },
            "type": "barpolar"
           }
          ],
          "carpet": [
           {
            "aaxis": {
             "endlinecolor": "#2a3f5f",
             "gridcolor": "white",
             "linecolor": "white",
             "minorgridcolor": "white",
             "startlinecolor": "#2a3f5f"
            },
            "baxis": {
             "endlinecolor": "#2a3f5f",
             "gridcolor": "white",
             "linecolor": "white",
             "minorgridcolor": "white",
             "startlinecolor": "#2a3f5f"
            },
            "type": "carpet"
           }
          ],
          "choropleth": [
           {
            "colorbar": {
             "outlinewidth": 0,
             "ticks": ""
            },
            "type": "choropleth"
           }
          ],
          "contour": [
           {
            "colorbar": {
             "outlinewidth": 0,
             "ticks": ""
            },
            "colorscale": [
             [
              0,
              "#0d0887"
             ],
             [
              0.1111111111111111,
              "#46039f"
             ],
             [
              0.2222222222222222,
              "#7201a8"
             ],
             [
              0.3333333333333333,
              "#9c179e"
             ],
             [
              0.4444444444444444,
              "#bd3786"
             ],
             [
              0.5555555555555556,
              "#d8576b"
             ],
             [
              0.6666666666666666,
              "#ed7953"
             ],
             [
              0.7777777777777778,
              "#fb9f3a"
             ],
             [
              0.8888888888888888,
              "#fdca26"
             ],
             [
              1,
              "#f0f921"
             ]
            ],
            "type": "contour"
           }
          ],
          "contourcarpet": [
           {
            "colorbar": {
             "outlinewidth": 0,
             "ticks": ""
            },
            "type": "contourcarpet"
           }
          ],
          "heatmap": [
           {
            "colorbar": {
             "outlinewidth": 0,
             "ticks": ""
            },
            "colorscale": [
             [
              0,
              "#0d0887"
             ],
             [
              0.1111111111111111,
              "#46039f"
             ],
             [
              0.2222222222222222,
              "#7201a8"
             ],
             [
              0.3333333333333333,
              "#9c179e"
             ],
             [
              0.4444444444444444,
              "#bd3786"
             ],
             [
              0.5555555555555556,
              "#d8576b"
             ],
             [
              0.6666666666666666,
              "#ed7953"
             ],
             [
              0.7777777777777778,
              "#fb9f3a"
             ],
             [
              0.8888888888888888,
              "#fdca26"
             ],
             [
              1,
              "#f0f921"
             ]
            ],
            "type": "heatmap"
           }
          ],
          "heatmapgl": [
           {
            "colorbar": {
             "outlinewidth": 0,
             "ticks": ""
            },
            "colorscale": [
             [
              0,
              "#0d0887"
             ],
             [
              0.1111111111111111,
              "#46039f"
             ],
             [
              0.2222222222222222,
              "#7201a8"
             ],
             [
              0.3333333333333333,
              "#9c179e"
             ],
             [
              0.4444444444444444,
              "#bd3786"
             ],
             [
              0.5555555555555556,
              "#d8576b"
             ],
             [
              0.6666666666666666,
              "#ed7953"
             ],
             [
              0.7777777777777778,
              "#fb9f3a"
             ],
             [
              0.8888888888888888,
              "#fdca26"
             ],
             [
              1,
              "#f0f921"
             ]
            ],
            "type": "heatmapgl"
           }
          ],
          "histogram": [
           {
            "marker": {
             "colorbar": {
              "outlinewidth": 0,
              "ticks": ""
             }
            },
            "type": "histogram"
           }
          ],
          "histogram2d": [
           {
            "colorbar": {
             "outlinewidth": 0,
             "ticks": ""
            },
            "colorscale": [
             [
              0,
              "#0d0887"
             ],
             [
              0.1111111111111111,
              "#46039f"
             ],
             [
              0.2222222222222222,
              "#7201a8"
             ],
             [
              0.3333333333333333,
              "#9c179e"
             ],
             [
              0.4444444444444444,
              "#bd3786"
             ],
             [
              0.5555555555555556,
              "#d8576b"
             ],
             [
              0.6666666666666666,
              "#ed7953"
             ],
             [
              0.7777777777777778,
              "#fb9f3a"
             ],
             [
              0.8888888888888888,
              "#fdca26"
             ],
             [
              1,
              "#f0f921"
             ]
            ],
            "type": "histogram2d"
           }
          ],
          "histogram2dcontour": [
           {
            "colorbar": {
             "outlinewidth": 0,
             "ticks": ""
            },
            "colorscale": [
             [
              0,
              "#0d0887"
             ],
             [
              0.1111111111111111,
              "#46039f"
             ],
             [
              0.2222222222222222,
              "#7201a8"
             ],
             [
              0.3333333333333333,
              "#9c179e"
             ],
             [
              0.4444444444444444,
              "#bd3786"
             ],
             [
              0.5555555555555556,
              "#d8576b"
             ],
             [
              0.6666666666666666,
              "#ed7953"
             ],
             [
              0.7777777777777778,
              "#fb9f3a"
             ],
             [
              0.8888888888888888,
              "#fdca26"
             ],
             [
              1,
              "#f0f921"
             ]
            ],
            "type": "histogram2dcontour"
           }
          ],
          "mesh3d": [
           {
            "colorbar": {
             "outlinewidth": 0,
             "ticks": ""
            },
            "type": "mesh3d"
           }
          ],
          "parcoords": [
           {
            "line": {
             "colorbar": {
              "outlinewidth": 0,
              "ticks": ""
             }
            },
            "type": "parcoords"
           }
          ],
          "pie": [
           {
            "automargin": true,
            "type": "pie"
           }
          ],
          "scatter": [
           {
            "marker": {
             "colorbar": {
              "outlinewidth": 0,
              "ticks": ""
             }
            },
            "type": "scatter"
           }
          ],
          "scatter3d": [
           {
            "line": {
             "colorbar": {
              "outlinewidth": 0,
              "ticks": ""
             }
            },
            "marker": {
             "colorbar": {
              "outlinewidth": 0,
              "ticks": ""
             }
            },
            "type": "scatter3d"
           }
          ],
          "scattercarpet": [
           {
            "marker": {
             "colorbar": {
              "outlinewidth": 0,
              "ticks": ""
             }
            },
            "type": "scattercarpet"
           }
          ],
          "scattergeo": [
           {
            "marker": {
             "colorbar": {
              "outlinewidth": 0,
              "ticks": ""
             }
            },
            "type": "scattergeo"
           }
          ],
          "scattergl": [
           {
            "marker": {
             "colorbar": {
              "outlinewidth": 0,
              "ticks": ""
             }
            },
            "type": "scattergl"
           }
          ],
          "scattermapbox": [
           {
            "marker": {
             "colorbar": {
              "outlinewidth": 0,
              "ticks": ""
             }
            },
            "type": "scattermapbox"
           }
          ],
          "scatterpolar": [
           {
            "marker": {
             "colorbar": {
              "outlinewidth": 0,
              "ticks": ""
             }
            },
            "type": "scatterpolar"
           }
          ],
          "scatterpolargl": [
           {
            "marker": {
             "colorbar": {
              "outlinewidth": 0,
              "ticks": ""
             }
            },
            "type": "scatterpolargl"
           }
          ],
          "scatterternary": [
           {
            "marker": {
             "colorbar": {
              "outlinewidth": 0,
              "ticks": ""
             }
            },
            "type": "scatterternary"
           }
          ],
          "surface": [
           {
            "colorbar": {
             "outlinewidth": 0,
             "ticks": ""
            },
            "colorscale": [
             [
              0,
              "#0d0887"
             ],
             [
              0.1111111111111111,
              "#46039f"
             ],
             [
              0.2222222222222222,
              "#7201a8"
             ],
             [
              0.3333333333333333,
              "#9c179e"
             ],
             [
              0.4444444444444444,
              "#bd3786"
             ],
             [
              0.5555555555555556,
              "#d8576b"
             ],
             [
              0.6666666666666666,
              "#ed7953"
             ],
             [
              0.7777777777777778,
              "#fb9f3a"
             ],
             [
              0.8888888888888888,
              "#fdca26"
             ],
             [
              1,
              "#f0f921"
             ]
            ],
            "type": "surface"
           }
          ],
          "table": [
           {
            "cells": {
             "fill": {
              "color": "#EBF0F8"
             },
             "line": {
              "color": "white"
             }
            },
            "header": {
             "fill": {
              "color": "#C8D4E3"
             },
             "line": {
              "color": "white"
             }
            },
            "type": "table"
           }
          ]
         },
         "layout": {
          "annotationdefaults": {
           "arrowcolor": "#2a3f5f",
           "arrowhead": 0,
           "arrowwidth": 1
          },
          "coloraxis": {
           "colorbar": {
            "outlinewidth": 0,
            "ticks": ""
           }
          },
          "colorscale": {
           "diverging": [
            [
             0,
             "#8e0152"
            ],
            [
             0.1,
             "#c51b7d"
            ],
            [
             0.2,
             "#de77ae"
            ],
            [
             0.3,
             "#f1b6da"
            ],
            [
             0.4,
             "#fde0ef"
            ],
            [
             0.5,
             "#f7f7f7"
            ],
            [
             0.6,
             "#e6f5d0"
            ],
            [
             0.7,
             "#b8e186"
            ],
            [
             0.8,
             "#7fbc41"
            ],
            [
             0.9,
             "#4d9221"
            ],
            [
             1,
             "#276419"
            ]
           ],
           "sequential": [
            [
             0,
             "#0d0887"
            ],
            [
             0.1111111111111111,
             "#46039f"
            ],
            [
             0.2222222222222222,
             "#7201a8"
            ],
            [
             0.3333333333333333,
             "#9c179e"
            ],
            [
             0.4444444444444444,
             "#bd3786"
            ],
            [
             0.5555555555555556,
             "#d8576b"
            ],
            [
             0.6666666666666666,
             "#ed7953"
            ],
            [
             0.7777777777777778,
             "#fb9f3a"
            ],
            [
             0.8888888888888888,
             "#fdca26"
            ],
            [
             1,
             "#f0f921"
            ]
           ],
           "sequentialminus": [
            [
             0,
             "#0d0887"
            ],
            [
             0.1111111111111111,
             "#46039f"
            ],
            [
             0.2222222222222222,
             "#7201a8"
            ],
            [
             0.3333333333333333,
             "#9c179e"
            ],
            [
             0.4444444444444444,
             "#bd3786"
            ],
            [
             0.5555555555555556,
             "#d8576b"
            ],
            [
             0.6666666666666666,
             "#ed7953"
            ],
            [
             0.7777777777777778,
             "#fb9f3a"
            ],
            [
             0.8888888888888888,
             "#fdca26"
            ],
            [
             1,
             "#f0f921"
            ]
           ]
          },
          "colorway": [
           "#636efa",
           "#EF553B",
           "#00cc96",
           "#ab63fa",
           "#FFA15A",
           "#19d3f3",
           "#FF6692",
           "#B6E880",
           "#FF97FF",
           "#FECB52"
          ],
          "font": {
           "color": "#2a3f5f"
          },
          "geo": {
           "bgcolor": "white",
           "lakecolor": "white",
           "landcolor": "#E5ECF6",
           "showlakes": true,
           "showland": true,
           "subunitcolor": "white"
          },
          "hoverlabel": {
           "align": "left"
          },
          "hovermode": "closest",
          "mapbox": {
           "style": "light"
          },
          "paper_bgcolor": "white",
          "plot_bgcolor": "#E5ECF6",
          "polar": {
           "angularaxis": {
            "gridcolor": "white",
            "linecolor": "white",
            "ticks": ""
           },
           "bgcolor": "#E5ECF6",
           "radialaxis": {
            "gridcolor": "white",
            "linecolor": "white",
            "ticks": ""
           }
          },
          "scene": {
           "xaxis": {
            "backgroundcolor": "#E5ECF6",
            "gridcolor": "white",
            "gridwidth": 2,
            "linecolor": "white",
            "showbackground": true,
            "ticks": "",
            "zerolinecolor": "white"
           },
           "yaxis": {
            "backgroundcolor": "#E5ECF6",
            "gridcolor": "white",
            "gridwidth": 2,
            "linecolor": "white",
            "showbackground": true,
            "ticks": "",
            "zerolinecolor": "white"
           },
           "zaxis": {
            "backgroundcolor": "#E5ECF6",
            "gridcolor": "white",
            "gridwidth": 2,
            "linecolor": "white",
            "showbackground": true,
            "ticks": "",
            "zerolinecolor": "white"
           }
          },
          "shapedefaults": {
           "line": {
            "color": "#2a3f5f"
           }
          },
          "ternary": {
           "aaxis": {
            "gridcolor": "white",
            "linecolor": "white",
            "ticks": ""
           },
           "baxis": {
            "gridcolor": "white",
            "linecolor": "white",
            "ticks": ""
           },
           "bgcolor": "#E5ECF6",
           "caxis": {
            "gridcolor": "white",
            "linecolor": "white",
            "ticks": ""
           }
          },
          "title": {
           "x": 0.05
          },
          "xaxis": {
           "automargin": true,
           "gridcolor": "white",
           "linecolor": "white",
           "ticks": "",
           "title": {
            "standoff": 15
           },
           "zerolinecolor": "white",
           "zerolinewidth": 2
          },
          "yaxis": {
           "automargin": true,
           "gridcolor": "white",
           "linecolor": "white",
           "ticks": "",
           "title": {
            "standoff": 15
           },
           "zerolinecolor": "white",
           "zerolinewidth": 2
          }
         }
        },
        "xaxis": {
         "anchor": "y",
         "domain": [
          0,
          1
         ],
         "title": {
          "text": "Length"
         }
        },
        "yaxis": {
         "anchor": "x",
         "domain": [
          0,
          1
         ],
         "title": {
          "text": "n_point"
         }
        }
       }
      }
     },
     "metadata": {},
     "output_type": "display_data"
    }
   ],
   "source": [
    "\n",
    "import plotly.express as px\n",
    "fig = px.scatter(\n",
    "    df,\n",
    "    x = 'Length',\n",
    "    y = 'n_point',\n",
    "    hover_data=[\"OrgName\",'Length','n_point']\n",
    ")\n",
    "fig.show()"
   ]
  },
  {
   "cell_type": "markdown",
   "metadata": {},
   "source": [
    "**Simplify**  \n",
    "Iterate over geos with more than n_points, simplify by tolerance t.  \n",
    "mapping counts the number of points before and after the process. I should convert this to a function.  \n",
    "\n",
    "Replace the new geo (simplified) within the same df. Output a copy df, df1"
   ]
  },
  {
   "cell_type": "code",
   "execution_count": 119,
   "metadata": {},
   "outputs": [
    {
     "name": "stdout",
     "output_type": "stream",
     "text": [
      "Orleans Pond Coalition 21841 538\n",
      "Orleans Conservation Trust 21841 538\n",
      "Orleans Conservation Commission 21841 538\n",
      "Orleans Can 21841 538\n",
      "The 300 Committee Land Trust  28904 823\n",
      "Falmouth Water Stewards 28904 824\n",
      "URI Watershed Watch 13170 1190\n",
      "Wareham Land Trust 22019 645\n",
      "Barrington Land Conservation Trust 7786 245\n",
      "Cape Cod Chamber of Commerce 174283 6169\n",
      "Aquidneck Land Trust 16928 909\n",
      "Aquidneck Community Table 16928 909\n",
      "Eastern Rhode Island Conservation District 59832 2754\n",
      "Manissean Tribal Council 5371 2\n",
      "Block Island Conservancy, Inc. 5371 2\n",
      "Block Island Land Trust 5371 2\n",
      "Environment Council of Rhode isalnd 138706 6032\n",
      "Rhode Island Tree Council 138706 6028\n",
      "The Rhode Island Chapter of Trout Unlimited 138706 6031\n",
      "Save The Lakes  138706 6024\n",
      "RI Tree Farm Committee 138706 6025\n",
      "RI Forest Conservator's Organization, Inc. 138706 6028\n",
      "Rhode Island Conservation Stewardship Collaborative 138706 6029\n",
      "Rhode Island Department of Health  138706 6025\n",
      "Rhode Island Environmental Education Association 138706 6026\n",
      "Rhode Island Green Infrastructure Coalition 138706 6032\n",
      "Rhode Island Infrastructure Bank 138706 6025\n",
      "Rhode Island Invasive Species Council 138706 6024\n",
      "Rhode Island Woodland Partnership 138706 6034\n",
      "Rhode Island Natural History Survey 138706 6026\n",
      "Rhode Island Water Resources Board 138706 6031\n",
      "Farm Fresh Rhode Island 138706 6029\n",
      "Audubon Society of Rhode Island - Policy 138706 6027\n",
      "DownCity Design 138706 6031\n",
      "Cape Cod Climate Change Collaborative 204832 8082\n",
      "Hope's Harvest RI 138251 6013\n",
      "South Kingstown Land Trust 13804 641\n",
      "Fairhaven-Acushnet Land Preservation Trust 10387 373\n",
      "Native Plant Trust 480369 21249\n",
      "Audubon Society of Rhode Island - Education  480369 21250\n",
      "Mattapoisett Land Trust, Inc. 6627 221\n",
      "Little Compton Historical Society 5377 472\n",
      "Young Farmer Network of Southeastern New England 140251 6198\n",
      "Council of Seven/Royal House/Pokanoket Tribe/Pokanoket Nation 27730 925\n",
      "Southeastern Regional Planning & Economic Development District 88299 4101\n",
      "Tiverton Land Trust 7057 290\n",
      "Friends of Pleasant Bay  8451 2\n",
      "The Trustees of Reservations 63084 3497\n",
      "The Community Compost Depot, Inc. 12079 2\n",
      "Warwick Land Trust 9617 455\n",
      "Waquoit Bay National Estaurine Research Reserve 4892 277\n",
      "Massachusetts Maritime Academy 36173 86\n",
      "MidState Trail Committee of the Worcester chapter of the AMC 24331 4\n",
      "Barnstable Clean Water Coalition 18135 1032\n",
      "The Massachusetts/Rhode Island Chapter of The American Chestnut Foundation 314653 16428\n",
      "Coalition for Social Justice Education Fund 52577 3019\n",
      "Dennis Conservation Land Trust 6080 394\n",
      "BiodiversityWorks 15923 946\n",
      "Polly Hill Arboretum 15923 946\n",
      "Northern RI Conservation District 11700 2\n",
      "Municipal Vulnerability Preparedness Program 177582 10493\n",
      "Massachusetts Rivers Alliance 177582 10491\n",
      "Mass Audubon 177582 10491\n",
      "Mass Audubon, Shaping Climate Resilient Communities 177582 10491\n",
      "Massachusetts Invasive plant Advisory Group 177582 10491\n",
      "Massachusetts Land Trust Coalition 177582 10489\n",
      "Mass Audubon - Islands 24393 1489\n",
      "Tomaquag Museum 254476 17655\n",
      "Martha's Vineyard Shellfish Group, Inc. 5654 469\n",
      "Southeastern Massachusetts Pine Barrens Alliance 61421 3737\n",
      "Simmons Stewardship and Conservation Ecology 61421 3737\n",
      "Nantucket Conservation Foundation 12032 1241\n",
      "Providence Stormwater Innovation Center 143614 11684\n",
      "Ducks Unlimited, Inc 143614 11678\n",
      "Nantucket Land Council 16718 954\n",
      "Rhode Island Rivers Council 35949 3060\n",
      "NEIWPCC 803246 72172\n",
      "Haymarket People's Fund 556171 53931\n",
      "Cyanobacteria Monitoring Collaborative 556171 53932\n",
      "Conservation Law Foundation 556171 53930\n",
      "Blackstone Valley Tourism Council 8351 2\n",
      "Eating with the Ecosystem 273791 22066\n",
      "Wood Pawcatuck Wild and Scenic Rivers Council 7060 2\n",
      "Wood-Pawcatuck Watershed Association 7060 2\n",
      "Sandplain Grassland Network 393031 32729\n",
      "Audubon Society of Rhode Island - Conservation 9134 1616\n",
      "Southeastern Regional Stormwater Coalition 9774 874\n",
      "Narragansett Bay Estuary Program 12055 2\n",
      "Wildlands Trust 12225 3579\n",
      "Association to Preserve Cape Cod 9528 2846\n"
     ]
    }
   ],
   "source": [
    "from shapely.geometry import mapping\n",
    "\n",
    "n_point = 5000\n",
    "t = 50\n",
    "df1 = df.copy() #make a new one\n",
    "temp = df[ df['n_point'] > n_point ] # Funcking huge ones\n",
    "\n",
    "names = temp['OrgName'].unique() # Names to iterate\n",
    "\n",
    "for name in names:\n",
    "    t1 = temp[ temp['OrgName'] == name ].copy()\n",
    "\n",
    "    count_init = 0\n",
    "    for i in mapping( t1['geometry'] )['features']:\n",
    "        for g in i['geometry']['coordinates']:\n",
    "            count_init = count_init + len(g[0])\n",
    "\n",
    "    t1['geometry'] = t1['geometry'].simplify(t) #50 meters resolution\n",
    "\n",
    "    count_fin = 0\n",
    "    for i in mapping( t1['geometry'] )['features']:\n",
    "        for g in i['geometry']['coordinates']:\n",
    "            count_fin = count_fin + len(g[0])\n",
    "\n",
    "    print( name, count_init , count_fin )\n",
    "\n",
    "    df1.loc[ df1['OrgName'] == name , 'geometry' ] = t1['geometry']\n",
    "\n"
   ]
  },
  {
   "cell_type": "markdown",
   "metadata": {},
   "source": [
    "**Save Data**"
   ]
  },
  {
   "cell_type": "code",
   "execution_count": 120,
   "metadata": {},
   "outputs": [],
   "source": [
    "\n",
    "path = r\"C:\\Users\\csucuogl\\Desktop\\Lynn_All_Reduce_50.geojson\"\n",
    "df1.to_file(\n",
    "    path,\n",
    "    driver = 'GeoJSON',\n",
    "    encoding = 'utf-8'\n",
    ")"
   ]
  }
 ],
 "metadata": {
  "interpreter": {
   "hash": "ef1415780623dd59874fc0c467a51d3375af7ffbe32f957813867fd3e08fe19e"
  },
  "kernelspec": {
   "display_name": "Python 3.7.6 ('Spyder_4')",
   "language": "python",
   "name": "python3"
  },
  "language_info": {
   "codemirror_mode": {
    "name": "ipython",
    "version": 3
   },
   "file_extension": ".py",
   "mimetype": "text/x-python",
   "name": "python",
   "nbconvert_exporter": "python",
   "pygments_lexer": "ipython3",
   "version": "3.7.6"
  },
  "orig_nbformat": 4
 },
 "nbformat": 4,
 "nbformat_minor": 2
}
